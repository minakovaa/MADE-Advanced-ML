{
 "cells": [
  {
   "cell_type": "markdown",
   "metadata": {},
   "source": [
    "## Продвинутое машинное обучение: Домашнее задание 3 \n",
    "### Александр Минаков, группа MADE-ML-21\n"
   ]
  },
  {
   "cell_type": "markdown",
   "metadata": {},
   "source": [
    "Третье домашнее задание посвящено достаточно простой, но, надеюсь, интересной задаче, в которой потребуется творчески применить методы сэмплирования. Как и раньше, в качестве решения ожидается ссылка на jupyter-ноутбук на вашем github (или публичный, или с доступом для snikolenko); ссылку обязательно нужно прислать в виде сданного домашнего задания на портале Академии. Как всегда, любые комментарии, новые идеи и рассуждения на тему категорически приветствуются. \n",
    "\n",
    "В этом небольшом домашнем задании мы попробуем улучшить метод Шерлока Холмса. Как известно, в рассказе The Adventure of the Dancing Men великий сыщик расшифровал загадочные письмена, которые выглядели примерно так:\n",
    "\n",
    "\n",
    "Пользовался он для этого так называемым частотным методом: смотрел, какие буквы чаще встречаются в зашифрованных текстах, и пытался подставить буквы в соответствии с частотной таблицей: E — самая частая и так далее.\n",
    "\n",
    "В этом задании мы будем разрабатывать более современный и продвинутый вариант такого частотного метода. В качестве корпусов текстов для подсчётов частот можете взять что угодно, но для удобства вот вам “Война и мир” по-русски и по-английски:\n",
    "\n",
    "\n",
    "https://www.dropbox.com/s/k23enjvr3fb40o5/corpora.zip "
   ]
  },
  {
   "cell_type": "markdown",
   "metadata": {},
   "source": [
    "## Задание 1\n",
    "Реализуйте базовый частотный метод по Шерлоку Холмсу:\n",
    "\n",
    "- подсчитайте частоты букв по корпусам (пунктуацию и капитализацию можно просто опустить, а вот пробелы лучше оставить);\n",
    "\n",
    "- возьмите какие-нибудь тестовые тексты (нужно взять по меньшей мере 2-3 предложения, иначе вряд ли сработает), зашифруйте их посредством случайной перестановки символов;\n",
    "\n",
    "- расшифруйте их таким частотным методом.\n"
   ]
  },
  {
   "cell_type": "code",
   "execution_count": 551,
   "metadata": {},
   "outputs": [],
   "source": [
    "from collections import Counter\n",
    "from copy import copy\n",
    "import tqdm\n",
    "\n",
    "import numpy as np\n",
    "import nltk\n",
    "from nltk import everygrams\n",
    "import matplotlib.pyplot as plt\n",
    "import re\n",
    "\n",
    "RUS_CORPUS_PATH = \"corpora/WarAndPeace.txt\"\n",
    "ENG_CORPUS_PATH = \"corpora/WarAndPeaceEng.txt\"\n",
    "\n",
    "RUS_ALF = \"абвгдеёжзийклмнопрстуфхцчшщъыьэюя\"\n",
    "ENG_ALF = \"abcdefghijklmnopqrstuvwxyz\"\n",
    "SPACE = \" \""
   ]
  },
  {
   "cell_type": "code",
   "execution_count": 384,
   "metadata": {},
   "outputs": [],
   "source": [
    "def preprocess_text(text, alf):\n",
    "    text = text.lower()\n",
    "    tokens = nltk.WordPunctTokenizer().tokenize(text)\n",
    "\n",
    "    tokens = [tok for tok in tokens if tok.isalpha() and all([letter in alf for letter in tok])]\n",
    "\n",
    "    return \" \".join(tokens)"
   ]
  },
  {
   "cell_type": "code",
   "execution_count": 386,
   "metadata": {},
   "outputs": [],
   "source": [
    "def count_letter_freqs(text: str, alf=None):\n",
    "    if alf is not None:\n",
    "        text = preprocess_text(text, alf)\n",
    "\n",
    "    count_symbols = Counter(text)\n",
    "\n",
    "    # selected_symbols = {key: value for key, value in count_symbols.items() if key in list(alf)}\n",
    "    total = sum(count_symbols.values())\n",
    "    symbol_proba = {key : value / total for key, value in count_symbols.items()}\n",
    "\n",
    "    return sorted([(k, v) for k, v in symbol_proba.items()], key=lambda x:x[1], reverse=True)"
   ]
  },
  {
   "cell_type": "code",
   "execution_count": 387,
   "metadata": {},
   "outputs": [
    {
     "name": "stdout",
     "output_type": "stream",
     "text": [
      "[(' ', 0.1622681921826889), ('о', 0.09523024960869923), ('а', 0.07024917348884852), ('е', 0.06606493649814181), ('и', 0.05569760338966717), ('н', 0.05457382800174706), ('т', 0.047579375379837634), ('с', 0.043704448627299816), ('л', 0.04238793721157597), ('в', 0.03857829201684264), ('р', 0.03816950511916216), ('к', 0.030040396849698538), ('д', 0.025467579157774645), ('м', 0.024775905509608048), ('у', 0.02401739598083209), ('п', 0.021518044910603124), ('я', 0.01939017699073779), ('г', 0.017369557344408402), ('ь', 0.01631572648270738), ('ы', 0.01590383093941716), ('з', 0.014919944603935234), ('б', 0.014469190990523293), ('ч', 0.011422718292980524), ('й', 0.009652344618235005), ('ж', 0.008486602514583434), ('ш', 0.007908394431172255), ('х', 0.007148330579591431), ('ю', 0.00543080388021145), ('ц', 0.0033868693918090295), ('э', 0.0025319918491312115), ('щ', 0.002353244726571304), ('ф', 0.001877621948281463), ('ё', 0.0006699131288984359), ('ъ', 0.0004398733537778593)] 34 \n",
      "\n",
      "[(' ', 0.18535415803332192), ('e', 0.1014190644843287), ('t', 0.07283121800300119), ('a', 0.06621593099844793), ('o', 0.062056803762036275), ('n', 0.059254773971527334), ('i', 0.056072126286636485), ('h', 0.05385501900837295), ('s', 0.052407834486876886), ('r', 0.047753228334701796), ('d', 0.03805664160530021), ('l', 0.031056554092141062), ('u', 0.021052706087055003), ('m', 0.019833634910543532), ('c', 0.01982591316120696), ('w', 0.0190489121342143), ('f', 0.017661892909632368), ('g', 0.01651360443537282), ('y', 0.01488495880446729), ('p', 0.014649767189257503), ('b', 0.011150849521122845), ('v', 0.008714637605434053), ('k', 0.006573460862313488), ('x', 0.0014101844725916508), ('j', 0.0008281576163474581), ('z', 0.0007683140589890171), ('q', 0.0007496531647589656)] 27\n"
     ]
    }
   ],
   "source": [
    "with open(RUS_CORPUS_PATH) as f_in:\n",
    "    rus_corpus = f_in.readlines()\n",
    "rus_corpus = ' '.join(rus_corpus)\n",
    "\n",
    "with open(ENG_CORPUS_PATH) as f_in:\n",
    "    en_corpus = f_in.readlines()\n",
    "en_corpus = ' '.join(en_corpus)\n",
    "\n",
    "\n",
    "\n",
    "freqs_corpus_rus = count_letter_freqs(text=rus_corpus, alf=RUS_ALF+SPACE)\n",
    "freqs_corpus_eng = count_letter_freqs(text=en_corpus, alf=ENG_ALF+SPACE)\n",
    "\n",
    "print(freqs_corpus_rus, len(freqs_corpus_rus), \"\\n\")\n",
    "print(freqs_corpus_eng, len(freqs_corpus_eng))"
   ]
  },
  {
   "cell_type": "code",
   "execution_count": 443,
   "metadata": {},
   "outputs": [
    {
     "data": {
      "text/plain": [
       "<BarContainer object of 34 artists>"
      ]
     },
     "execution_count": 443,
     "metadata": {},
     "output_type": "execute_result"
    },
    {
     "data": {
      "image/png": "[encoded data removed]",
      "text/plain": [
       "<Figure size 432x288 with 1 Axes>"
      ]
     },
     "metadata": {
      "needs_background": "light"
     },
     "output_type": "display_data"
    }
   ],
   "source": [
    "plt.bar(np.array(freqs_corpus_rus)[:,0],  np.array(freqs_corpus_rus)[:,1].astype(float))"
   ]
  },
  {
   "cell_type": "markdown",
   "metadata": {},
   "source": [
    "Выберем несколько предложений и зашифруем случайной перестановкой"
   ]
  },
  {
   "cell_type": "code",
   "execution_count": 525,
   "metadata": {},
   "outputs": [],
   "source": [
    "RUS_TEXT_FOR_TEST = \"\"\"Так шло изо дня в день, мистер Холмс. В субботу мой хозяин выложил передо мной на стол четыре золотых соверена — плату за неделю. Так прошла и вторая неделя и третья. Каждое утро я приходил туда ровно к десяти и ровно в два уходил.\"\"\"\n",
    "\n",
    "# ENG_TEXT_FOR_TEST ="
   ]
  },
  {
   "cell_type": "code",
   "execution_count": 526,
   "metadata": {},
   "outputs": [],
   "source": [
    "def encrypt(text, alf, seed=42):\n",
    "    alf_nums = {i: ch for i, ch in enumerate(alf)}\n",
    "\n",
    "    np.random.seed(seed) # Generate permutation\n",
    "    permutation = list(np.random.permutation(list(alf)))\n",
    "\n",
    "    permutation = {ch: alf_nums[permutation.index(ch)] for ch in alf}\n",
    "    inv_permutation = {v: k for k, v in permutation.items()}\n",
    "\n",
    "    enc_text = ''.join([permutation[ch] for ch in text])\n",
    "\n",
    "    # dec_text = ''.join([inv_permutation[ch] for ch in enc_text])\n",
    "    # print(dec_text)\n",
    "\n",
    "    return enc_text, inv_permutation"
   ]
  },
  {
   "cell_type": "code",
   "execution_count": 527,
   "metadata": {},
   "outputs": [],
   "source": [
    "def apply_permutation(text, permutation):\n",
    "    return ''.join([permutation[ch] for ch in text])"
   ]
  },
  {
   "cell_type": "markdown",
   "metadata": {},
   "source": [
    "Текст на русском языке:"
   ]
  },
  {
   "cell_type": "code",
   "execution_count": 528,
   "metadata": {},
   "outputs": [
    {
     "data": {
      "text/plain": [
       "'так шло изо дня в день мистер холмс в субботу мой хозяин выложил передо мной на стол четыре золотых соверена плату за неделю так прошла и вторая неделя и третья каждое утро я приходил туда ровно к десяти и ровно в два уходил'"
      ]
     },
     "execution_count": 528,
     "metadata": {},
     "output_type": "execute_result"
    }
   ],
   "source": [
    "text = preprocess_text(text=RUS_TEXT_FOR_TEST, alf=RUS_ALF+SPACE)\n",
    "text"
   ]
  },
  {
   "cell_type": "markdown",
   "metadata": {},
   "source": [
    "Зашифрованный текст:"
   ]
  },
  {
   "cell_type": "code",
   "execution_count": 529,
   "metadata": {},
   "outputs": [
    {
     "name": "stdout",
     "output_type": "stream",
     "text": [
      "бйпьщжаьидаькязьськняфьоишбнмьчажошьсьшыррабыьоаюьчадзияьс жаэижьлнмнкаьояаюьяйьшбажьенб мньдажаб чьшаснмняйьлжйбыьдйьянкнжцьбйпьлмащжйьиьсбамйзьянкнжзьиьбмнбфзьпйэканьыбмаьзьлмичакижьбыкйьмасяаьпькншзбиьиьмасяаьськсйьычакиж\n"
     ]
    }
   ],
   "source": [
    "enc_text, inv_permutation = encrypt(text, alf=RUS_ALF+SPACE, seed=42)\n",
    "print(enc_text) #, inv_permutation)\n"
   ]
  },
  {
   "cell_type": "markdown",
   "metadata": {},
   "source": [
    "Теперь расшифруем частотным методом"
   ]
  },
  {
   "cell_type": "code",
   "execution_count": 530,
   "metadata": {},
   "outputs": [],
   "source": [
    "def decrypt_by_freqs_method(enc_text, corpus_freqs, alf):\n",
    "\n",
    "    freqs = count_letter_freqs(enc_text, alf)\n",
    "    \n",
    "    #compare with corpus freqs\n",
    "    permutation = {freqs[i][0]: corpus_freqs[i][0] for i in range(len(freqs))}\n",
    "    \n",
    "    decrypted_text = ''.join([permutation[ch] for ch in enc_text])\n",
    "    \n",
    "    return decrypted_text, permutation\n",
    "\n"
   ]
  },
  {
   "cell_type": "code",
   "execution_count": 531,
   "metadata": {},
   "outputs": [],
   "source": [
    "def count_true_letter_permutations(permutation_1, permutation_2):\n",
    "\n",
    "    counter = 0\n",
    "    for k, v in permutation_1.items():\n",
    "        if permutation_2[k] == v:\n",
    "            counter += 1\n",
    "    \n",
    "    return counter\n",
    "\n",
    "\n",
    "def metric_count_percentage_true_enc(true_text, decrypted_text):\n",
    "    return sum([true_text[i] == decrypted_text[i] for i in range(len(decrypted_text))]) / len(decrypted_text)"
   ]
  },
  {
   "cell_type": "code",
   "execution_count": 545,
   "metadata": {},
   "outputs": [
    {
     "data": {
      "text/plain": [
       "'так шло изо дня в день мистер холмс в субботу мой хозяин выложил передо мной на стол четыре золотых соверена плату за неделю так прошла и вторая неделя и третья каждое утро я приходил туда ровно к десяти и ровно в два уходил'"
      ]
     },
     "execution_count": 545,
     "metadata": {},
     "output_type": "execute_result"
    }
   ],
   "source": [
    "text"
   ]
  },
  {
   "cell_type": "code",
   "execution_count": 532,
   "metadata": {},
   "outputs": [
    {
     "data": {
      "text/plain": [
       "'енп зио тяо свк р савб гтдеал уоигд р дмччоем гой уояктв рыиожти ьаласо гвой вн деои шаеыла яоиоеыу доралавн ьинем ян васаих енп ьлозин т реолнк васаик т елаебк пнжсоа мело к ьлтуости емсн лорво п садкет т лорво р срн муости'"
      ]
     },
     "execution_count": 532,
     "metadata": {},
     "output_type": "execute_result"
    }
   ],
   "source": [
    "decrypted_text, dec_permutation_uno = decrypt_by_freqs_method(enc_text, corpus_freqs=freqs_corpus_rus, alf=RUS_ALF+SPACE)\n",
    "decrypted_text"
   ]
  },
  {
   "cell_type": "code",
   "execution_count": 533,
   "metadata": {},
   "outputs": [],
   "source": [
    "# count_true_letter_permutations(inv_permutation, dec_permutation)"
   ]
  },
  {
   "cell_type": "markdown",
   "metadata": {},
   "source": [
    "Доля правильно расшифрованных символов:"
   ]
  },
  {
   "cell_type": "code",
   "execution_count": 534,
   "metadata": {},
   "outputs": [
    {
     "data": {
      "text/plain": [
       "0.32142857142857145"
      ]
     },
     "execution_count": 534,
     "metadata": {},
     "output_type": "execute_result"
    }
   ],
   "source": [
    "metric_count_percentage_true_enc(text, decrypted_text)"
   ]
  },
  {
   "cell_type": "markdown",
   "metadata": {},
   "source": [
    "## Задание 2\n",
    "Вряд ли в результате получилась такая уж хорошая расшифровка, разве что если вы брали в качестве тестовых данных целые рассказы. Но и Шерлок Холмс был не так уж прост: после буквы E, которая действительно выделяется частотой, дальше он анализировал уже конкретные слова и пытался угадать, какими они могли бы быть. Я не знаю, как запрограммировать такой интуитивный анализ, так что давайте просто сделаем следующий логический шаг:\n",
    "\n",
    "- подсчитайте частоты биграмм (т.е. пар последовательных букв) по корпусам;\n",
    "- проведите тестирование аналогично п.1, но при помощи биграмм. (В качестве естественной метрики качества можно взять долю правильно расшифрованных букв или, если хочется совсем математически изощриться, расстояние между двумя перестановками, правильной и полученной из модели; но, честно говоря, в этом задании следить за численными метриками не так уж обязательно, будет и глазами всё видно.)\n",
    ")"
   ]
  },
  {
   "cell_type": "code",
   "execution_count": 535,
   "metadata": {},
   "outputs": [],
   "source": [
    "def count_bigram_freqs(text: str, alf):\n",
    "    text = preprocess_text(text, alf)\n",
    "\n",
    "    bigrams = [text[i:i+2] for i in range(len(text) - 1)]\n",
    "    count_bigrams = Counter(bigrams)\n",
    "\n",
    "    total = sum(count_bigrams.values())\n",
    "\n",
    "    bigrams_proba = {key : value / total for key, value in count_bigrams.items()}\n",
    "\n",
    "    return sorted([(k, v) for k, v in bigrams_proba.items()], key=lambda x:x[1], reverse=True)"
   ]
  },
  {
   "cell_type": "code",
   "execution_count": 536,
   "metadata": {},
   "outputs": [],
   "source": [
    "bigrams_corpus_rus = count_bigram_freqs(text=rus_corpus, alf=RUS_ALF+SPACE)\n",
    "bigrams_corpus_eng = count_bigram_freqs(text=en_corpus, alf=ENG_ALF+SPACE)\n",
    "\n",
    "# print(bigrams_corpus_rus[:20], len(bigrams_corpus_rus))\n",
    "# print(bigrams_corpus_eng[:100], len(bigrams_corpus_eng))"
   ]
  },
  {
   "cell_type": "markdown",
   "metadata": {},
   "source": [
    "Зашифруем текст"
   ]
  },
  {
   "cell_type": "code",
   "execution_count": 537,
   "metadata": {},
   "outputs": [],
   "source": [
    "text = preprocess_text(text=RUS_TEXT_FOR_TEST, alf=RUS_ALF+SPACE)\n",
    "enc_text, inv_permutation = encrypt(text, alf=RUS_ALF+SPACE, seed=42)\n",
    "# print(enc_text, inv_permutation)"
   ]
  },
  {
   "cell_type": "markdown",
   "metadata": {},
   "source": [
    "Расшифруем"
   ]
  },
  {
   "cell_type": "code",
   "execution_count": 538,
   "metadata": {},
   "outputs": [],
   "source": [
    "def get_inv_permutation_bigram(corpus_freqs, text_freqs, init_mapping=None):\n",
    "\n",
    "    if init_mapping is None:\n",
    "        init_mapping = []\n",
    "    reverse_mapping = {k: v for k, v in init_mapping}\n",
    "    \n",
    "    for text_bigram, text_freq in text_freqs:\n",
    "\n",
    "        filtred_freqs = copy(corpus_freqs)\n",
    "        \n",
    "        if text_bigram[0] in reverse_mapping.keys():\n",
    "            filtred_freqs = [(bigram, freq) for bigram, freq in filtred_freqs if bigram[0] == reverse_mapping[text_bigram[0]]]\n",
    "            \n",
    "        if text_bigram[1] in reverse_mapping.keys():\n",
    "            filtred_freqs = [(bigram, freq) for bigram, freq in filtred_freqs if bigram[1] == reverse_mapping[text_bigram[1]]]\n",
    "              \n",
    "        min_diff = 1\n",
    "        best_bigram = None\n",
    "        for bigram, freq in filtred_freqs:\n",
    "            diff = abs(freq - text_freq)\n",
    "            if diff < min_diff:\n",
    "                best_bigram = bigram\n",
    "                min_diff = diff\n",
    "                \n",
    "        if text_bigram[0] not in reverse_mapping.keys():\n",
    "            reverse_mapping[text_bigram[0]] = best_bigram[0]\n",
    "            \n",
    "        if text_bigram[1] not in reverse_mapping.keys():\n",
    "            reverse_mapping[text_bigram[1]] = best_bigram[1]\n",
    "\n",
    "        \n",
    "    return reverse_mapping"
   ]
  },
  {
   "cell_type": "markdown",
   "metadata": {},
   "source": [
    "Подсчитаем частоты биграм в зашифрованном тексте"
   ]
  },
  {
   "cell_type": "code",
   "execution_count": 539,
   "metadata": {},
   "outputs": [],
   "source": [
    "bigrams_freqs = count_bigram_freqs(enc_text, alf=RUS_ALF+SPACE)"
   ]
  },
  {
   "cell_type": "markdown",
   "metadata": {},
   "source": [
    "Расшифруем:"
   ]
  },
  {
   "cell_type": "code",
   "execution_count": 546,
   "metadata": {},
   "outputs": [
    {
     "data": {
      "text/plain": [
       "'так шло изо дня в день мистер холмс в субботу мой хозяин выложил передо мной на стол четыре золотых соверена плату за неделю так прошла и вторая неделя и третья каждое утро я приходил туда ровно к десяти и ровно в два уходил'"
      ]
     },
     "execution_count": 546,
     "metadata": {},
     "output_type": "execute_result"
    }
   ],
   "source": [
    "text"
   ]
  },
  {
   "cell_type": "code",
   "execution_count": 540,
   "metadata": {},
   "outputs": [
    {
     "name": "stdout",
     "output_type": "stream",
     "text": [
      "тое сто сго сто с стте нснттс тотнн с ноддото нов тогост сатодст стстсо нтов то нтот рттаст гототат ностстто стото го ттстте тое ссосто с стосоо ттстто с тсттео еодсот отсо о ссстосст тосо состо е стнотс с состо с ссо отосст\n"
     ]
    }
   ],
   "source": [
    "dec_permutation = get_inv_permutation_bigram(bigrams_corpus_rus, bigrams_freqs)\n",
    "decrypted_text = apply_permutation(enc_text, dec_permutation)\n",
    "print(decrypted_text)"
   ]
  },
  {
   "cell_type": "code",
   "execution_count": 541,
   "metadata": {},
   "outputs": [
    {
     "data": {
      "text/plain": [
       "0.35267857142857145"
      ]
     },
     "execution_count": 541,
     "metadata": {},
     "output_type": "execute_result"
    }
   ],
   "source": [
    "metric_count_percentage_true_enc(text, decrypted_text)"
   ]
  },
  {
   "cell_type": "markdown",
   "metadata": {},
   "source": [
    "Качество на биграммах упало даже ниже чем для простого частотного метода. Но поскольку биграмм больше чем одиночных символов это кажется закономерным."
   ]
  },
  {
   "cell_type": "markdown",
   "metadata": {},
   "source": [
    "Попробуем добавить найденные с помощью посимвольного частотного метода первые несколько букв"
   ]
  },
  {
   "cell_type": "code",
   "execution_count": 542,
   "metadata": {},
   "outputs": [
    {
     "data": {
      "text/plain": [
       "[('ь', ' '), ('а', 'о')]"
      ]
     },
     "execution_count": 542,
     "metadata": {},
     "output_type": "execute_result"
    }
   ],
   "source": [
    "init_mapping = list(dec_permutation_uno.items())[:2]\n",
    "init_mapping"
   ]
  },
  {
   "cell_type": "code",
   "execution_count": 547,
   "metadata": {},
   "outputs": [
    {
     "data": {
      "text/plain": [
       "'так шло изо дня в день мистер холмс в субботу мой хозяин выложил передо мной на стол четыре золотых соверена плату за неделю так прошла и вторая неделя и третья каждое утро я приходил туда ровно к десяти и ровно в два уходил'"
      ]
     },
     "execution_count": 547,
     "metadata": {},
     "output_type": "execute_result"
    }
   ],
   "source": [
    "text"
   ]
  },
  {
   "cell_type": "code",
   "execution_count": 548,
   "metadata": {},
   "outputs": [
    {
     "name": "stdout",
     "output_type": "stream",
     "text": [
      "тое сто сго сто с стте нснттс тотнн с ноддото нов тогост сатодст стстсо нтов то нтот рттаст гототат ностстто стото го ттстте тое ссосто с стосоо ттстто с тсттео еодсот отсо о ссстосст тосо состо е стнотс с состо с ссо отосст\n"
     ]
    }
   ],
   "source": [
    "dec_permutation = get_inv_permutation_bigram(bigrams_corpus_rus, bigrams_freqs, init_mapping)\n",
    "decrypted_text = apply_permutation(enc_text, dec_permutation)\n",
    "print(decrypted_text)"
   ]
  },
  {
   "cell_type": "code",
   "execution_count": 549,
   "metadata": {},
   "outputs": [
    {
     "data": {
      "text/plain": [
       "0.35267857142857145"
      ]
     },
     "execution_count": 549,
     "metadata": {},
     "output_type": "execute_result"
    }
   ],
   "source": [
    "metric_count_percentage_true_enc(text, decrypted_text)"
   ]
  },
  {
   "cell_type": "markdown",
   "metadata": {},
   "source": [
    "Качество получилось немного лучше, чем для посимвольного частотного метода. Но все равно не достаточно хорошее."
   ]
  },
  {
   "cell_type": "markdown",
   "metadata": {},
   "source": [
    "## Задание 3\n",
    "\n",
    "Но и это ещё не всё: биграммы скорее всего тоже далеко не всегда работают. Основная часть задания — в том, как можно их улучшить:\n",
    "\n",
    "- предложите метод обучения перестановки символов в этом задании, основанный на MCMC-сэмплировании, но по-прежнему работающий на основе статистики биграмм;\n",
    "- реализуйте и протестируйте его, убедитесь, что результаты улучшились.\n"
   ]
  },
  {
   "cell_type": "markdown",
   "metadata": {},
   "source": [
    "#### Метод\n",
    "\n",
    "Текст, разбитый на биграммы - это, по сути, марковская цепь. Частота биграмм - вероятность перехода по цепи.\n",
    "\n",
    "Для обучения перестановки будем считать вероятность порождения именно такого текста как произведение вероятностей всех биграмм, в него входящих.\n",
    "\n",
    "Всего перестановок очень много, поэтому сделаем жадный алгоритм, который использует идею MCMC-семплирования.\n",
    "\n",
    "Алгоритм:\n",
    "\n",
    "0) Инициализируем перестановки, восстанавливаем текст и считаем на нем $p_{cur}$\n",
    "\n",
    "1) Меняем местами пару букв для перестановки\n",
    "\n",
    "2) Восстанавливаем текст с новой перестановкой и считаем на нем $p_{prop}$\n",
    "\n",
    "3) Принимаем новую перестановку с \"вероятностью\" $p_{new} = \\frac{p_{prop}}{p_{cur}}$\n",
    " \n",
    "\n",
    "4) Возвращаемся к пункту 1\n"
   ]
  },
  {
   "cell_type": "code",
   "execution_count": 557,
   "metadata": {},
   "outputs": [],
   "source": [
    "def get_freqs_smooth(text, min_freq=0, n_gram=2):    \n",
    "    freqs = dict()\n",
    "    vocab_len = len(set(text))**n_gram\n",
    "    if n_gram > 1:\n",
    "        text = [''.join(ngram) for ngram in everygrams(text, min_len=n_gram, max_len=n_gram)]\n",
    "    for key, value in Counter(text).items():\n",
    "        freqs[key] = (value + 1) / (len(text) + vocab_len) # Сглаживаем, чтобы не было нулей\n",
    "    return freqs\n",
    "\n",
    "def get_text_proba(text, mapping, freqs, n_gram=2):\n",
    "    decoded_text = apply_permutation(text, mapping)\n",
    "    log_proba = 0\n",
    "    for i in range(len(decoded_text) - n_gram):\n",
    "        bigram = decoded_text[i: i + n_gram]\n",
    "        bigram_proba = freqs.get(bigram)\n",
    "        if bigram_proba is None:\n",
    "            bigram_proba = 1 / (len(text) + len(RUS_ALF+SPACE)**n_gram) # Сглаживаем, чтобы не было нулей\n",
    "            \n",
    "        log_proba += np.log(bigram_proba)\n",
    "    return log_proba\n",
    "        \n",
    "def get_reverse_mapping_mcmc(encoded_text, alf_encoded, alf_corpus, freqs_corpus, n_iters=10000, n_trials=10, n_gram=2):\n",
    "\n",
    "    accept_count = 0\n",
    "    best_mapping = None\n",
    "    all_mappings = []\n",
    "    best_log_likekihood = -np.inf\n",
    "\n",
    "    for trial in tqdm.tqdm(range(n_trials), leave=False, position=0, total=n_trials):\n",
    "\n",
    "        alf_encoded = list(alf_encoded)\n",
    "        alf_iter = list(alf_corpus)\n",
    "        reverse_mapping = {k: v for k, v in zip(alf_encoded, alf_iter[:len(alf_encoded)])}\n",
    "        log_proba_current = get_text_proba(encoded_text, reverse_mapping, freqs_corpus, n_gram=n_gram)\n",
    "\n",
    "        for i in range(n_iters):\n",
    "            alf_proposal = alf_iter[:]\n",
    "            idx1, idx2 = np.random.choice(len(alf_proposal), replace=False, size=2)\n",
    "            alf_proposal[idx1], alf_proposal[idx2] = alf_proposal[idx2], alf_proposal[idx1]\n",
    "            reverse_mapping_proposal = {k: v for k, v in zip(alf_encoded, alf_proposal[:len(alf_encoded)])}\n",
    "            log_proba_proposal = get_text_proba(encoded_text, reverse_mapping_proposal, freqs_corpus, n_gram=n_gram)\n",
    "\n",
    "            p_accept = np.exp(log_proba_proposal - log_proba_current)\n",
    "\n",
    "            if p_accept > np.random.rand():\n",
    "                accept_count += 1\n",
    "                alf_iter = alf_proposal\n",
    "                log_proba_current = log_proba_proposal\n",
    "                reverse_mapping = reverse_mapping_proposal\n",
    "\n",
    "        if log_proba_current > best_log_likekihood:\n",
    "            best_log_likekihood = log_proba_current\n",
    "            best_mapping = reverse_mapping\n",
    "            \n",
    "        all_mappings.append(reverse_mapping)\n",
    "\n",
    "\n",
    "    print(f'Best likelihood: {best_log_likekihood}')        \n",
    "    print(f'Accept raito: {accept_count / (n_iters * n_trials)}')\n",
    "    return best_mapping, all_mappings"
   ]
  },
  {
   "cell_type": "code",
   "execution_count": 558,
   "metadata": {},
   "outputs": [],
   "source": [
    "tokenized_corpus = preprocess_text(text=rus_corpus, alf=RUS_ALF+SPACE)\n",
    "\n",
    "freqs_corpus = get_freqs_smooth(tokenized_corpus, n_gram=2)"
   ]
  },
  {
   "cell_type": "code",
   "execution_count": 559,
   "metadata": {},
   "outputs": [
    {
     "name": "stderr",
     "output_type": "stream",
     "text": [
      "                                               "
     ]
    },
    {
     "name": "stdout",
     "output_type": "stream",
     "text": [
      "Best likelihood: -1200.7761239528713\n",
      "Accept raito: 0.06567\n"
     ]
    },
    {
     "name": "stderr",
     "output_type": "stream",
     "text": [
      "\r"
     ]
    }
   ],
   "source": [
    "best_reverse_mapping, _ = get_reverse_mapping_mcmc(\n",
    "    enc_text, \n",
    "    alf_encoded=RUS_ALF+SPACE, \n",
    "    alf_corpus=RUS_ALF+SPACE,\n",
    "    freqs_corpus=freqs_corpus\n",
    ")"
   ]
  },
  {
   "cell_type": "code",
   "execution_count": 562,
   "metadata": {},
   "outputs": [
    {
     "name": "stdout",
     "output_type": "stream",
     "text": [
      "так шло изо дня в день мистер холмс в субботу мой хозяин выложил передо мной на стол четыре золотых соверена плату за неделю так прошла и вторая неделя и третья каждое утро я приходил туда ровно к десяти и ровно в два уходил\n"
     ]
    }
   ],
   "source": [
    "print(text)"
   ]
  },
  {
   "cell_type": "code",
   "execution_count": 563,
   "metadata": {},
   "outputs": [
    {
     "name": "stdout",
     "output_type": "stream",
     "text": [
      "таз бло иго дня в день кистер молкс в сущщоту кой могяин выложил передо кной на стол четыре голотым соверена плату га неделх таз пробла и вторая неделя и третья заждое утро я примодил туда ровно з десяти и ровно в два умодил\n"
     ]
    }
   ],
   "source": [
    "decrypted_text = apply_permutation(enc_text, best_reverse_mapping)\n",
    "print(decrypted_text)"
   ]
  },
  {
   "cell_type": "code",
   "execution_count": 564,
   "metadata": {},
   "outputs": [
    {
     "data": {
      "text/plain": [
       "0.9017857142857143"
      ]
     },
     "execution_count": 564,
     "metadata": {},
     "output_type": "execute_result"
    }
   ],
   "source": [
    "metric_count_percentage_true_enc(text, decrypted_text)"
   ]
  },
  {
   "cell_type": "markdown",
   "metadata": {},
   "source": [
    "## Задание 4\n",
    "\n",
    "Расшифруйте сообщение:\n",
    "\n",
    "←⇠⇒↟↹↷⇊↹↷↟↤↟↨←↹↝⇛⇯↳⇴⇒⇈↝⇊↾↹↟⇒↟↹⇷⇛⇞↨↟↹↝⇛⇯↳⇴⇒⇈↝⇊↾↹↨←⇌⇠↨↹⇙↹⇸↨⇛↙⇛↹⇠⇛⇛↲⇆←↝↟↞↹⇌⇛↨⇛⇯⇊↾↹⇒←↙⇌⇛↹⇷⇯⇛⇞↟↨⇴↨⇈↹⇠⇌⇛⇯←←↹↷⇠←↙⇛↹↷⇊↹↷⇠←↹⇠↤←⇒⇴⇒↟↹⇷⇯⇴↷↟⇒⇈↝⇛↹↟↹⇷⇛⇒⇙⇞↟↨←↹↳⇴⇌⇠↟↳⇴⇒⇈↝⇊↾↹↲⇴⇒⇒↹⇰⇴↹⇷⇛⇠⇒←↤↝←←↹⇞←↨↷←⇯↨⇛←↹⇰⇴↤⇴↝↟←↹⇌⇙⇯⇠⇴↹↘⇛↨↞↹⇌⇛↝←⇞↝⇛↹↞↹↝↟⇞←↙⇛↹↝←↹⇛↲←⇆⇴⇏\n",
    "\n",
    "\n",
    "Или это (они одинаковые, второй вариант просто на случай проблем с юникодом):\n",
    "\n",
    "\n",
    "დჳჵჂႨშႼႨშჂხჂჲდႨსႹႭჾႣჵისႼჰႨჂჵჂႨႲႹႧჲჂႨსႹႭჾႣჵისႼჰႨჲდႩჳჲႨჇႨႠჲႹქႹႨჳႹႹჱჶდსჂႽႨႩႹჲႹႭႼჰႨჵდქႩႹႨႲႭႹႧჂჲႣჲიႨჳႩႹႭდდႨშჳდქႹႨშႼႨშჳდႨჳხდჵႣჵჂႨႲႭႣშჂჵისႹႨჂႨႲႹჵჇႧჂჲდႨჾႣႩჳჂჾႣჵისႼჰႨჱႣჵჵႨეႣႨႲႹჳჵდხსდდႨႧდჲშდႭჲႹდႨეႣხႣსჂდႨႩჇႭჳႣႨႾႹჲႽႨႩႹსდႧსႹႨႽႨსჂႧდქႹႨსდႨႹჱდჶႣნ\n"
   ]
  },
  {
   "cell_type": "code",
   "execution_count": 567,
   "metadata": {},
   "outputs": [],
   "source": [
    "enc_text = \"\"\"←⇠⇒↟↹↷⇊↹↷↟↤↟↨←↹↝⇛⇯↳⇴⇒⇈↝⇊↾↹↟⇒↟↹⇷⇛⇞↨↟↹↝⇛⇯↳⇴⇒⇈↝⇊↾↹↨←⇌⇠↨↹⇙↹⇸↨⇛↙⇛↹⇠⇛⇛↲⇆←↝↟↞↹⇌⇛↨⇛⇯⇊↾↹⇒←↙⇌⇛↹⇷⇯⇛⇞↟↨⇴↨⇈↹⇠⇌⇛⇯←←↹↷⇠←↙⇛↹↷⇊↹↷⇠←↹⇠↤←⇒⇴⇒↟↹⇷⇯⇴↷↟⇒⇈↝⇛↹↟↹⇷⇛⇒⇙⇞↟↨←↹↳⇴⇌⇠↟↳⇴⇒⇈↝⇊↾↹↲⇴⇒⇒↹⇰⇴↹⇷⇛⇠⇒←↤↝←←↹⇞←↨↷←⇯↨⇛←↹⇰⇴↤⇴↝↟←↹⇌⇙⇯⇠⇴↹↘⇛↨↞↹⇌⇛↝←⇞↝⇛↹↞↹↝↟⇞←↙⇛↹↝←↹⇛↲←⇆⇴⇏\"\"\""
   ]
  },
  {
   "cell_type": "code",
   "execution_count": 576,
   "metadata": {},
   "outputs": [],
   "source": [
    "enc_text_freqs = count_letter_freqs(enc_text)"
   ]
  },
  {
   "cell_type": "code",
   "execution_count": 571,
   "metadata": {},
   "outputs": [
    {
     "data": {
      "text/plain": [
       "<BarContainer object of 28 artists>"
      ]
     },
     "execution_count": 571,
     "metadata": {},
     "output_type": "execute_result"
    },
    {
     "data": {
      "image/png": "[encoded data removed]",
      "text/plain": [
       "<Figure size 432x288 with 1 Axes>"
      ]
     },
     "metadata": {
      "needs_background": "light"
     },
     "output_type": "display_data"
    }
   ],
   "source": [
    "plt.bar(np.array(enc_text_freqs)[:,0],  np.array(enc_text_freqs)[:,1].astype(float))"
   ]
  },
  {
   "cell_type": "code",
   "execution_count": 577,
   "metadata": {},
   "outputs": [
    {
     "data": {
      "text/plain": [
       "(' оаеинтслвркдмупягьызбчйжшхюцэщфёъ', '↹←⇛↟⇒↝⇴↨⇠⇯↷⇌⇊⇞⇈⇷↤↳↾↙⇙↲↞⇆⇰⇸↘⇏')"
      ]
     },
     "execution_count": 577,
     "metadata": {},
     "output_type": "execute_result"
    }
   ],
   "source": [
    "alf_corpus = ''.join([c for c, _ in freqs_corpus_rus])\n",
    "alf_message = ''.join([c for c, _ in enc_text_freqs])\n",
    "alf_corpus, alf_message"
   ]
  },
  {
   "cell_type": "code",
   "execution_count": 578,
   "metadata": {},
   "outputs": [],
   "source": [
    "freqs_corpus = get_freqs_smooth(tokenized_corpus, n_gram=2)"
   ]
  },
  {
   "cell_type": "code",
   "execution_count": 580,
   "metadata": {},
   "outputs": [
    {
     "name": "stderr",
     "output_type": "stream",
     "text": [
      "                                               "
     ]
    },
    {
     "name": "stdout",
     "output_type": "stream",
     "text": [
      "Best likelihood: -1244.1855269452076\n",
      "Accept raito: 0.055882\n"
     ]
    },
    {
     "name": "stderr",
     "output_type": "stream",
     "text": [
      "\r"
     ]
    }
   ],
   "source": [
    "best_reverse_mapping, _ = get_reverse_mapping_mcmc(\n",
    "    enc_text, \n",
    "    alf_encoded=alf_message, \n",
    "    alf_corpus=alf_corpus,\n",
    "    freqs_corpus=freqs_corpus,\n",
    "    n_iters=10000,\n",
    "    n_trials=50,\n",
    ")"
   ]
  },
  {
   "cell_type": "code",
   "execution_count": 581,
   "metadata": {},
   "outputs": [
    {
     "name": "stdout",
     "output_type": "stream",
     "text": [
      "если вы вимите норзальный или подти норзальный текст у этого соочжения который легко продитать скорее всего вы все смелали правильно и полудите заксизальный чалл ба послемнее детвертое бамание курса хотя конедно я нидего не очежаф\n"
     ]
    }
   ],
   "source": [
    "decrypted_text = apply_permutation(enc_text, best_reverse_mapping)\n",
    "print(decrypted_text)"
   ]
  },
  {
   "cell_type": "markdown",
   "metadata": {},
   "source": [
    "# Задание 5 (Бонус)\n",
    " А что если от биграмм перейти к триграммам (тройкам букв) или даже больше? Улучшатся ли результаты? Когда улучшатся, а когда нет? Чтобы ответить на этот вопрос эмпирически, уже может понадобиться погенерировать много тестовых перестановок и последить за метриками, глазами может быть и не видно."
   ]
  },
  {
   "cell_type": "code",
   "execution_count": 583,
   "metadata": {},
   "outputs": [
    {
     "data": {
      "text/plain": [
       "(' оаеинтслвркдмупягьызбчйжшхюцэщфёъ', '↹←⇛↟⇒↝⇴↨⇠⇯↷⇌⇊⇞⇈⇷↤↳↾↙⇙↲↞⇆⇰⇸↘⇏')"
      ]
     },
     "execution_count": 583,
     "metadata": {},
     "output_type": "execute_result"
    }
   ],
   "source": [
    "alf_corpus = ''.join([c for c, _ in freqs_corpus_rus])\n",
    "alf_message = ''.join([c for c, _ in enc_text_freqs])\n",
    "alf_corpus, alf_message"
   ]
  },
  {
   "cell_type": "code",
   "execution_count": 584,
   "metadata": {},
   "outputs": [],
   "source": [
    "freqs_corpus_trigramm = get_freqs_smooth(tokenized_corpus, n_gram=3)"
   ]
  },
  {
   "cell_type": "code",
   "execution_count": 586,
   "metadata": {},
   "outputs": [
    {
     "name": "stderr",
     "output_type": "stream",
     "text": [
      "                                               "
     ]
    },
    {
     "name": "stdout",
     "output_type": "stream",
     "text": [
      "Best likelihood: -1748.6109668625465\n",
      "Accept raito: 0.05022\n"
     ]
    },
    {
     "name": "stderr",
     "output_type": "stream",
     "text": [
      "\r"
     ]
    }
   ],
   "source": [
    "best_reverse_mapping, _ = get_reverse_mapping_mcmc(\n",
    "    enc_text, \n",
    "    abc_encoded=alf_message, \n",
    "    abc_corpus=alf_corpus,\n",
    "    freqs_corpus=freqs_corpus_trigramm,\n",
    "    n_gram=3,\n",
    "    n_iters=10000,\n",
    "    n_trials=20,\n",
    ")"
   ]
  },
  {
   "cell_type": "code",
   "execution_count": 587,
   "metadata": {},
   "outputs": [
    {
     "name": "stdout",
     "output_type": "stream",
     "text": [
      "если вы видите нормальный или почти нормальный текст у этого сообщения который легко прочитать скорее всего вы все сделали правильно и получите максимальный балл за последнее четвертое задание курса хотя конечно я ничего не обещаю\n"
     ]
    }
   ],
   "source": [
    "decrypted_text = apply_permutation(enc_text, best_reverse_mapping)\n",
    "print(decrypted_text)"
   ]
  },
  {
   "cell_type": "markdown",
   "metadata": {},
   "source": [
    "Качество улучшилось по сравнению с биграммами"
   ]
  },
  {
   "cell_type": "markdown",
   "metadata": {},
   "source": [
    "## Задание 6 (Бонус)\n",
    "Какие вы можете придумать применения для этой модели? Пляшущие человечки ведь не так часто встречаются в жизни (хотя встречаются! и это самое потрясающее во всей этой истории, но об этом я расскажу потом).\n"
   ]
  },
  {
   "cell_type": "markdown",
   "metadata": {},
   "source": [
    "Скорее всего методы применяются в биоинформатике при обработке последовательностей ДНК."
   ]
  }
 ],
 "metadata": {
  "interpreter": {
   "hash": "4658d5f0b4e8428a4b4ab18d3b35955c33ab5eda1875d260fb22d7a8b1cb47c4"
  },
  "kernelspec": {
   "display_name": "Python 3.7.5 64-bit ('venv-vscode': venv)",
   "language": "python",
   "name": "python3"
  },
  "language_info": {
   "codemirror_mode": {
    "name": "ipython",
    "version": 3
   },
   "file_extension": ".py",
   "mimetype": "text/x-python",
   "name": "python",
   "nbconvert_exporter": "python",
   "pygments_lexer": "ipython3",
   "version": "3.7.5"
  },
  "orig_nbformat": 4
 },
 "nbformat": 4,
 "nbformat_minor": 2
}
